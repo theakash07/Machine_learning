{
  "nbformat": 4,
  "nbformat_minor": 0,
  "metadata": {
    "colab": {
      "provenance": [],
      "mount_file_id": "1UlPPDx_TgfrhzBxy-o4byXazXxpqBxXW",
      "authorship_tag": "ABX9TyNIGSYtzRglacsFm+Do8urN",
      "include_colab_link": true
    },
    "kernelspec": {
      "name": "python3",
      "display_name": "Python 3"
    },
    "language_info": {
      "name": "python"
    }
  },
  "cells": [
    {
      "cell_type": "markdown",
      "metadata": {
        "id": "view-in-github",
        "colab_type": "text"
      },
      "source": [
        "<a href=\"https://colab.research.google.com/github/theakash07/Machine_learning/blob/main/Survival_training_model.ipynb\" target=\"_parent\"><img src=\"https://colab.research.google.com/assets/colab-badge.svg\" alt=\"Open In Colab\"/></a>"
      ]
    },
    {
      "cell_type": "code",
      "execution_count": 9,
      "metadata": {
        "id": "Ouv5jBaOj9K7"
      },
      "outputs": [],
      "source": [
        "import numpy\n",
        "import pandas as pd\n",
        "import matplotlib\n",
        "%matplotlib inline\n",
        "import seaborn as sns\n",
        "matplotlib.rcParams[\"figure.figsize\"]=(20,10)\n",
        "from sklearn.linear_model import LogisticRegression\n",
        "#from sklearn.model_selection import train_test_split\n",
        "from sklearn.metrics import accuracy_score, precision_score, recall_score, f1_score\n",
        "from sklearn.metrics import confusion_matrix\n",
        "from sklearn.preprocessing import OneHotEncoder"
      ]
    },
    {
      "cell_type": "markdown",
      "source": [
        "1. Accuracy is a measure of the overall correctness of your model's\n",
        "   predictions.\n",
        "  \n",
        "  \n",
        "   \n",
        "       Accuracy= Number of Correct Predictions/Total Number of Predictions.\n",
        "\n",
        "\n",
        "2. Precision is a measure that tells you how well your model is performing when it predicts a positive (e.g., class 1) outcome\n",
        "        \n",
        "        Precision= True Positives / False Positives + True Positives\n",
        "\n",
        "3.Recall is a measure of how many of the actual positive instances were correctly predicted as positive by the model.\n",
        "        \n",
        "        Recall= True Positives / False Negatives+True Positives\n",
        "\n",
        "4. The **F1-score** is the harmonic mean of precision and recall. It provides a balanced measure of both precision and recall, helping to evaluate a model's overall performance. The formula for the F1-score is:\n",
        "\n",
        "      \n",
        "      F1-Score= 2⋅Precision⋅Recall / Precision+Recall\n",
        "\n"
      ],
      "metadata": {
        "id": "vfyA93tAUzrM"
      }
    },
    {
      "cell_type": "code",
      "source": [],
      "metadata": {
        "id": "6Gw_hgYuVsWX"
      },
      "execution_count": null,
      "outputs": []
    }
  ]
}