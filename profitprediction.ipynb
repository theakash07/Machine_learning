{
  "nbformat": 4,
  "nbformat_minor": 0,
  "metadata": {
    "colab": {
      "provenance": [],
      "authorship_tag": "ABX9TyPe4mdv+Btm/xd10J+T2fAB",
      "include_colab_link": true
    },
    "kernelspec": {
      "name": "python3",
      "display_name": "Python 3"
    },
    "language_info": {
      "name": "python"
    }
  },
  "cells": [
    {
      "cell_type": "markdown",
      "metadata": {
        "id": "view-in-github",
        "colab_type": "text"
      },
      "source": [
        "<a href=\"https://colab.research.google.com/github/theakash07/Machine_learning/blob/main/profitprediction.ipynb\" target=\"_parent\"><img src=\"https://colab.research.google.com/assets/colab-badge.svg\" alt=\"Open In Colab\"/></a>"
      ]
    },
    {
      "cell_type": "markdown",
      "source": [
        "This linear regression aim is to predict profit for a restaurant franchise.."
      ],
      "metadata": {
        "id": "FhInjo0ie7yu"
      }
    },
    {
      "cell_type": "code",
      "source": [
        "import numpy as np\n",
        "import copy\n",
        "import math\n",
        "import matplotlib.pyplot as plt\n",
        "%matplotlib inline"
      ],
      "metadata": {
        "id": "WOoguGIkfBWo"
      },
      "execution_count": null,
      "outputs": []
    },
    {
      "cell_type": "code",
      "source": [
        "#loading the data sheet\n",
        "#x is the population of the city\n",
        "#it's 10k time city population\n",
        "x_train=np.array([[6.5101,7.5277,9.5186,7.6032,6.8598,1.2324,9.9083]])\n",
        "#printing x train\n",
        "print(\"Type of x_train:\",type(x_train))\n",
        "print(\"First five elements of x_train are:\\n\", x_train[:5])\n"
      ],
      "metadata": {
        "colab": {
          "base_uri": "https://localhost:8080/"
        },
        "id": "tXTtnpTgfOjh",
        "outputId": "13ac946f-b8af-4ce9-fa24-9b6cc30be551"
      },
      "execution_count": 11,
      "outputs": [
        {
          "output_type": "stream",
          "name": "stdout",
          "text": [
            "Type of x_train: <class 'numpy.ndarray'>\n",
            "First five elements of x_train are:\n",
            " [[6.5101 7.5277 9.5186 7.6032 6.8598 1.2324 9.9083]]\n"
          ]
        }
      ]
    },
    {
      "cell_type": "code",
      "source": [
        "#load the y_train data sheet.\n",
        "#y is the profit of the restaurant that train in that city.\n",
        "#the profit is $10K times\n",
        "y_train=np.array([18.592,8.1302,17.662,19.854,7.8233,8.231,4.563])\n",
        "print(\"Type of y_train:\",type(y_train))\n",
        "#printing the y value\n",
        "print(\"First five elements of y_train are:\\n\", y_train[:5])\n"
      ],
      "metadata": {
        "colab": {
          "base_uri": "https://localhost:8080/"
        },
        "id": "1ANIfjcyfziB",
        "outputId": "5ba06989-057a-43c5-e879-485d1cfcd3ff"
      },
      "execution_count": 12,
      "outputs": [
        {
          "output_type": "stream",
          "name": "stdout",
          "text": [
            "Type of y_train: <class 'numpy.ndarray'>\n",
            "First five elements of y_train are:\n",
            " [18.592   8.1302 17.662  19.854   7.8233]\n"
          ]
        }
      ]
    },
    {
      "cell_type": "code",
      "source": [
        "#checking dimensions of variable using .shape.\n",
        "print ('The shape of x_train is:', x_train.shape)\n",
        "print ('The shape of y_train is: ', y_train.shape)\n",
        "print ('Number of training examples (m):', len(x_train))"
      ],
      "metadata": {
        "colab": {
          "base_uri": "https://localhost:8080/"
        },
        "id": "A7HTCLuwg4QC",
        "outputId": "d62c5eaa-7bb7-4b97-aee2-42a8b917d5dd"
      },
      "execution_count": 13,
      "outputs": [
        {
          "output_type": "stream",
          "name": "stdout",
          "text": [
            "The shape of x_train is: (1, 7)\n",
            "The shape of y_train is:  (7,)\n",
            "Number of training examples (m): 1\n"
          ]
        }
      ]
    },
    {
      "cell_type": "markdown",
      "source": [
        "Now visualising my data\n"
      ],
      "metadata": {
        "id": "HRTMzID-hXFY"
      }
    },
    {
      "cell_type": "code",
      "source": [
        "# we use a scatter plot of the data. To change the markers to red \"x\",\n",
        "# we used the 'marker' and 'c' parameters.\n",
        "#marker = 'X' it's for marking the points and c='g' it's used for the color of the marker\n",
        "plt.scatter(x_train, y_train, marker='x', c='g')\n",
        "\n",
        "# Set the title\n",
        "plt.title(\"Profits vs. Population per city\")\n",
        "# Set the y-axis label\n",
        "plt.ylabel('NerProfit in $10,000')\n",
        "# Set the x-axis label\n",
        "plt.xlabel('Density City in 10,000s')\n",
        "\n",
        "plt.show()\n"
      ],
      "metadata": {
        "id": "vAGeEUNjhfxQ",
        "colab": {
          "base_uri": "https://localhost:8080/",
          "height": 472
        },
        "outputId": "a8bb30d8-e207-4d12-a07b-4e3349640eb8"
      },
      "execution_count": 14,
      "outputs": [
        {
          "output_type": "display_data",
          "data": {
            "text/plain": [
              "<Figure size 640x480 with 1 Axes>"
            ],
            "image/png": "[encoded data removed]"
          },
          "metadata": {}
        }
      ]
    },
    {
      "cell_type": "markdown",
      "source": [
        "Now we need to find best (w,b) parameter to that fit on the dataset.\n",
        "To evaluate the cost function will use find cost function j(w,b)\n",
        "\n",
        "\n",
        "*   𝐽 is a function of  (𝑤,𝑏) .That is, the value of the cost  𝐽(𝑤,𝑏)\n",
        "      depends on the value of (𝑤,𝑏).\n",
        "*   The choice of  (𝑤,𝑏) that fits your data the best is the one that has the\n",
        "     smallest cost  𝐽(𝑤,𝑏).\n",
        "\n",
        "We need to compute the cose of using gradient descendet to adjust the value of the parameter  (𝑤,𝑏)to gradually get a smaller and smaller cost  𝐽(𝑤,𝑏).\n"
      ],
      "metadata": {
        "id": "s7NagOb8mBZN"
      }
    },
    {
      "cell_type": "code",
      "source": [
        "# UNQ_C1\n",
        "# GRADED FUNCTION: compute_cost\n",
        "\n",
        "def compute_cost(x, y, w, b):\n",
        "    \"\"\"\n",
        "    Computes the cost function for linear regression.\n",
        "        total_cost (float): The cost of using w,b as the parameters for linear regression\n",
        "               to fit the data points in x and y\n",
        "    \"\"\"\n",
        "    # number of training examples\n",
        "    m = x.shape[0]\n",
        "\n",
        "    # You need to return this variable correctly\n",
        "    total_cost = 0\n",
        "    t_cost=0\n",
        "    for i in range(m):\n",
        "        f_wb = w*x[i]+b #it's is predicted price\n",
        "        cost += (f_wb - y[i])**2 #predicted price - actual price\n",
        "        total_cost = t_cost/(2*m)\n",
        "\n",
        "    return total_cost"
      ],
      "metadata": {
        "id": "PPb2FxS_nVCS"
      },
      "execution_count": 15,
      "outputs": []
    },
    {
      "cell_type": "markdown",
      "source": [
        "Try the cost function mode"
      ],
      "metadata": {
        "id": "BGWUItTMpFKG"
      }
    },
    {
      "cell_type": "code",
      "source": [
        "# Compute cost with some initial values for paramaters w, b\n",
        "initial_w = 2 #parameter w\n",
        "initial_b = 1 #parameter b\n",
        "\n",
        "cost = compute_cost(x_train, y_train, initial_w, initial_b)\n",
        "print(type(cost))\n",
        "print(f'Cost at initial w: {cost:.3f}')\n",
        "\n",
        "# Public tests\n",
        "from public_tests import *\n",
        "compute_cost_test(compute_cost)"
      ],
      "metadata": {
        "colab": {
          "base_uri": "https://localhost:8080/",
          "height": 140
        },
        "id": "6PfF49TEpH5T",
        "outputId": "96306360-6d27-4a1f-8f27-50e22f3df4c5"
      },
      "execution_count": 19,
      "outputs": [
        {
          "output_type": "error",
          "ename": "SyntaxError",
          "evalue": "ignored",
          "traceback": [
            "\u001b[0;36m  File \u001b[0;32m\"<ipython-input-19-cce77d984c22>\"\u001b[0;36m, line \u001b[0;32m10\u001b[0m\n\u001b[0;31m    from /content/public_tests.py import *\u001b[0m\n\u001b[0m         ^\u001b[0m\n\u001b[0;31mSyntaxError\u001b[0m\u001b[0;31m:\u001b[0m invalid syntax\n"
          ]
        }
      ]
    }
  ]
}