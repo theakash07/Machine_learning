{
  "nbformat": 4,
  "nbformat_minor": 0,
  "metadata": {
    "colab": {
      "provenance": [],
      "authorship_tag": "ABX9TyMgp5q0tIIIDkt6JzaJy4Cn",
      "include_colab_link": true
    },
    "kernelspec": {
      "name": "python3",
      "display_name": "Python 3"
    },
    "language_info": {
      "name": "python"
    }
  },
  "cells": [
    {
      "cell_type": "markdown",
      "metadata": {
        "id": "view-in-github",
        "colab_type": "text"
      },
      "source": [
        "<a href=\"https://colab.research.google.com/github/theakash07/Machine_learning/blob/main/GradientDescendent.ipynb\" target=\"_parent\"><img src=\"https://colab.research.google.com/assets/colab-badge.svg\" alt=\"Open In Colab\"/></a>"
      ]
    },
    {
      "cell_type": "code",
      "execution_count": 1,
      "metadata": {
        "id": "qwWTGmREiYCP"
      },
      "outputs": [],
      "source": [
        "import numpy as np"
      ]
    },
    {
      "cell_type": "code",
      "source": [
        "#Here i have demonstrated how the gradientdescendent works....\n",
        "\n",
        "def gd(x,y):\n",
        "  m_Curr = b_curr=0\n",
        "  iteration=10\n",
        "  n=len(x)\n",
        "  learningrate=0.1\n",
        "\n",
        "  for i in range(iteration):\n",
        "    yp=m_Curr*x+b_curr\n",
        "\n",
        "    cost=(1/n) * sum([val**2 for val in (y-yp)])\n",
        "    md= -(2/n)*sum(x*(y-yp))\n",
        "    mb= -(2/n)*sum(y-yp)\n",
        "\n",
        "    m_Curr==m_Curr-learningrate*md\n",
        "    b_curr=b_curr-learningrate*mb\n",
        "    print(\"m :{}, b :{},cost: {},iteration :{}\".format(m_Curr,b_curr,cost,i))\n",
        "\n",
        "  pass\n",
        "\n",
        "\n",
        "x=np.array([1,2,3,4,5])\n",
        "y=np.array([5,7,9,11,13])\n",
        "\n",
        "gd(x,y)"
      ],
      "metadata": {
        "colab": {
          "base_uri": "https://localhost:8080/"
        },
        "id": "LsHibIUOilZN",
        "outputId": "047af9c4-5896-4d52-8281-9a38c9109960"
      },
      "execution_count": 7,
      "outputs": [
        {
          "output_type": "stream",
          "name": "stdout",
          "text": [
            "m :0, b :1.8,cost: 89.0,iteration :0\n",
            "m :0, b :3.24,cost: 59.84,iteration :1\n",
            "m :0, b :4.392,cost: 41.1776,iteration :2\n",
            "m :0, b :5.3136,cost: 29.233664,iteration :3\n",
            "m :0, b :6.05088,cost: 21.58954496,iteration :4\n",
            "m :0, b :6.640704,cost: 16.6973087744,iteration :5\n",
            "m :0, b :7.1125632,cost: 13.566277615615997,iteration :6\n",
            "m :0, b :7.49005056,cost: 11.56241767399424,iteration :7\n",
            "m :0, b :7.792040448,cost: 10.279947311356313,iteration :8\n",
            "m :0, b :8.0336323584,cost: 9.459166279268041,iteration :9\n"
          ]
        }
      ]
    }
  ]
}